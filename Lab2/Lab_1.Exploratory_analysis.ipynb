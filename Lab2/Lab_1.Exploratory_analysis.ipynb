{
 "cells": [
  {
   "cell_type": "markdown",
   "source": [
    "# <center> Майнор \"Интеллектуальный анализ данных\" </center>"
   ],
   "metadata": {
    "collapsed": false
   }
  },
  {
   "cell_type": "markdown",
   "source": [
    "# <center> Курс \"Введение в анализ данных\" </center>"
   ],
   "metadata": {
    "collapsed": false
   }
  },
  {
   "cell_type": "markdown",
   "source": [
    "# <center> Лабораторная работа №1. Обработка и первичный анализ данных </center>"
   ],
   "metadata": {
    "collapsed": false
   }
  },
  {
   "cell_type": "markdown",
   "source": [
    "## Данные"
   ],
   "metadata": {
    "collapsed": false
   }
  },
  {
   "cell_type": "markdown",
   "source": [
    "В рамках данной лабораторной работы вам предлагается проанализировать набор данных о студентах двух школ в Португалии.  \n",
    "В файле `students_data.csv` представлена информация о студентах, посещающих два курса - математику (`Math`) и поргутальский язык (`Por`). Некоторые студенты представлены в обоих курсах, некоторые - только в одном. Для каждого студента известны три оценки по курсу: оценка за первое полугодие (`G1`), оценка за второе полугодие (`G2`) и итоговая оценка за год (`G3`)."
   ],
   "metadata": {
    "collapsed": false
   }
  },
  {
   "cell_type": "code",
   "execution_count": null,
   "outputs": [],
   "source": [
    "import pandas as pd"
   ],
   "metadata": {
    "collapsed": false,
    "pycharm": {
     "name": "#%%\n"
    }
   }
  },
  {
   "cell_type": "code",
   "execution_count": null,
   "outputs": [],
   "source": [
    "pd.set_option('display.max_columns', None)\n",
    "pd.set_option('display.max_colwidth', None)"
   ],
   "metadata": {
    "collapsed": false,
    "pycharm": {
     "name": "#%%\n"
    }
   }
  },
  {
   "cell_type": "code",
   "execution_count": null,
   "outputs": [],
   "source": [
    "data = pd.read_csv(\"students_data.csv\")\n",
    "data.shape"
   ],
   "metadata": {
    "collapsed": false,
    "pycharm": {
     "name": "#%%\n"
    }
   }
  },
  {
   "cell_type": "code",
   "execution_count": null,
   "outputs": [],
   "source": [
    "data.head(15)"
   ],
   "metadata": {
    "collapsed": false,
    "pycharm": {
     "name": "#%%\n"
    }
   }
  },
  {
   "cell_type": "markdown",
   "source": [
    "### Признаки"
   ],
   "metadata": {
    "collapsed": false
   }
  },
  {
   "cell_type": "markdown",
   "source": [
    "Данные представлены признаками различных типов: числовыми, категориальными, упорядоченными категориальными."
   ],
   "metadata": {
    "collapsed": false
   }
  },
  {
   "cell_type": "markdown",
   "source": [
    "**Описание признаков:**"
   ],
   "metadata": {
    "collapsed": false
   }
  },
  {
   "cell_type": "code",
   "execution_count": null,
   "outputs": [],
   "source": [
    "pd.read_csv('students_data_features.csv',\n",
    "            delimiter=';',\n",
    "            encoding='windows-1251')"
   ],
   "metadata": {
    "collapsed": false,
    "pycharm": {
     "name": "#%%\n"
    }
   }
  },
  {
   "cell_type": "markdown",
   "source": [
    "<br>  \n",
    "\n",
    "## Задания"
   ],
   "metadata": {
    "collapsed": false
   }
  },
  {
   "cell_type": "markdown",
   "source": [
    "**NB:** Обратите внимание, что часть студентов посещают оба курса и представлены в данных два раза. Из-за этого некоторые результаты анализа могут быть искажены. Имеет смысл выявить таких студентов заранее ([Задание 11](#task11)) и учитывать эту информацию при анализе."
   ],
   "metadata": {
    "collapsed": false
   }
  },
  {
   "cell_type": "markdown",
   "source": [
    "### Задание 1  \n",
    "  \n",
    " * Для каждого признака определите, к какому типу он относится.   \n",
    " * Проверьте значения признаков на наличие опечаток и ошибок, исправьте их.<br>\n",
    "   __Note:__ Исправлять ошибки нужно программно, модифицировать руками исходный файл нельзя.\n",
    " * При необходимости, приведите признак к определенному вами типу."
   ],
   "metadata": {
    "collapsed": false
   }
  },
  {
   "cell_type": "markdown",
   "source": [
    "### Задание 1.1\n",
    "Для проверки выведем список всех признаков и распределим по кортежам в 3 категории. \n",
    "Приходится делать это вручную, смотря на описание признаков."
   ],
   "metadata": {
    "collapsed": false
   }
  },
  {
   "cell_type": "code",
   "execution_count": null,
   "outputs": [],
   "source": [
    "print(data.dtypes)\n",
    "categoric = (\"Subject\", \"school\", \"sex\", \"address\", \"Pstatus\", \"Mjob\", \"Fjob\", \"reason\", \"guardian\", \"schoolsup\", \"famsup\",\n",
    "              \"paid\", \"activities\", \"nursery\", \"higher\", \"internet\", \"romantic\", \"cheating\")\n",
    "numberic = ('ID', 'age', 'failures', 'absences', 'G1', 'G2', 'G3')\n",
    "sort_categoric = (\"famsize\", \"Medu\", \"Fedu\", \"traveltime\", \"studytime\", \"famrel\", \"freetime\", \"goout\", \"Dalc\", \"Walc\", \"health\")"
   ],
   "metadata": {
    "collapsed": false,
    "pycharm": {
     "name": "#%%\n"
    }
   }
  },
  {
   "cell_type": "markdown",
   "source": [
    "### Задание 1.2\n",
    "Выведем уникальные значения для категориальных и упорядоченные категориальные. Найдем среди них \"плохие\" значения. Для числовых просто удостоверимся, что нет не числовых значений."
   ],
   "metadata": {
    "collapsed": false
   }
  },
  {
   "cell_type": "code",
   "execution_count": null,
   "outputs": [],
   "source": [
    "print(\"Sort Categorical Values:\")\n",
    "for value in sort_categoric:\n",
    "    print(value, data[value].unique())\n",
    "print()\n",
    "print(\"Categorical Values:\")\n",
    "for value in categoric:\n",
    "    print(value, data[value].unique())"
   ],
   "metadata": {
    "collapsed": false,
    "pycharm": {
     "name": "#%%\n"
    }
   }
  },
  {
   "cell_type": "markdown",
   "source": [
    "Как мы видим имеются значения с ошибками, исправим их\n",
    "Пустые значения исправим в следующем задании"
   ],
   "metadata": {
    "collapsed": false
   }
  },
  {
   "cell_type": "code",
   "execution_count": null,
   "outputs": [],
   "source": [
    "data.loc[data['Medu'] == 'o', 'Medu'] = '0'\n",
    "data.loc[data['Fedu'] == 'o', 'Fedu'] = '0'\n",
    "data.loc[data['sex'] == 'm', 'sex'] = 'M'\n",
    "data.loc[data['Pstatus'] == 't', 'Pstatus'] = 'T'\n",
    "data.loc[data['Mjob'] == 'at-home', 'Mjob'] = 'at_home'\n",
    "data.loc[data['Fjob'] == 'at-home', 'Fjob'] = 'at_home'\n",
    "data.loc[data['guardian'] == 'futher', 'guardian'] = 'father'\n",
    "\n",
    "print(\"Sort Categorical Values:\")\n",
    "for value in sort_categoric:\n",
    "    print(value, data[value].unique())\n",
    "print()\n",
    "print(\"Categorical Values:\")\n",
    "for value in categoric:\n",
    "    print(value, data[value].unique())"
   ],
   "metadata": {
    "collapsed": false,
    "pycharm": {
     "name": "#%%\n"
    }
   }
  },
  {
   "cell_type": "markdown",
   "source": [
    "### Задание 1.3\n",
    "Можно заметить, что некоторые значения имеют неправильный тип, исправим данный момент"
   ],
   "metadata": {
    "collapsed": false
   }
  },
  {
   "cell_type": "code",
   "execution_count": null,
   "outputs": [],
   "source": [
    "data[['Medu', 'Fedu']] = data[['Medu', 'Fedu']].astype(int)\n",
    "print(data.dtypes)"
   ],
   "metadata": {
    "collapsed": false,
    "pycharm": {
     "name": "#%%\n"
    }
   }
  },
  {
   "cell_type": "markdown",
   "source": [
    "### Задание 2  \n",
    "  \n",
    "Проверьте, присутствуют ли в данных пропущенные значения. Сколько? В каких признаках?  \n",
    "По каждому такому признаку предложите и обоснуйте, что делать с пропущенными значениями."
   ],
   "metadata": {
    "collapsed": false
   }
  },
  {
   "cell_type": "markdown",
   "source": [
    "#### Выведем количество  пропущенных значений в каждом столбце"
   ],
   "metadata": {
    "collapsed": false
   }
  },
  {
   "cell_type": "code",
   "execution_count": null,
   "outputs": [],
   "source": [
    "print(data.isnull().sum())"
   ],
   "metadata": {
    "collapsed": false,
    "pycharm": {
     "name": "#%%\n"
    }
   }
  },
  {
   "cell_type": "markdown",
   "source": [
    "Как мы видим в столбце cheating наибольшее количество пропущенных значений, по этой причине сложно заменить пустые элементы средним значением. Следовательно просто удаляем этот столбец"
   ],
   "metadata": {
    "collapsed": false
   }
  },
  {
   "cell_type": "code",
   "execution_count": null,
   "outputs": [],
   "source": [
    "data.drop(columns=[\"cheating\"], inplace=True)"
   ],
   "metadata": {
    "collapsed": false,
    "pycharm": {
     "name": "#%%\n"
    }
   }
  },
  {
   "cell_type": "markdown",
   "source": [
    "Теперь найдем средние значения для столбцов и заменим пустые ячейки"
   ],
   "metadata": {
    "collapsed": false
   }
  },
  {
   "cell_type": "code",
   "execution_count": null,
   "outputs": [],
   "source": [
    "columns = data.columns.values.tolist()\n",
    "empty_columns = list()\n",
    "for value in columns:\n",
    "    if data[value].isnull().sum() != 0:\n",
    "        if(data[value].dtypes == 'object'):    \n",
    "            data = data.fillna({value : data[value].value_counts().index[0]})\n",
    "        else:\n",
    "            data = data.fillna({value : data[value].median()})\n",
    "\n",
    "print(data.isnull().sum())\n",
    "print(data.dtypes)"
   ],
   "metadata": {
    "collapsed": false,
    "pycharm": {
     "name": "#%%\n"
    }
   }
  },
  {
   "cell_type": "markdown",
   "source": [
    "### Задание 3  \n",
    "  \n",
    "Проанализируйте данные на наличие выбросов.   \n",
    "Сколько наблюдений можно отнести к выбросам по каждому признаку? Сколько всего выбросов в данных?  \n",
    "  \n",
    "**Note:** Выбросы можно не удалять из данных. Это информацию можно учитывать в дальнейшем анализе и удалять выбросы при необходимости. "
   ],
   "metadata": {
    "collapsed": false
   }
  },
  {
   "cell_type": "markdown",
   "source": [
    "#### Выведем количество  "
   ],
   "metadata": {
    "collapsed": false
   }
  },
  {
   "cell_type": "code",
   "execution_count": null,
   "outputs": [],
   "source": [
    "# you"
   ],
   "metadata": {
    "collapsed": false,
    "pycharm": {
     "name": "#%%\n"
    }
   }
  },
  {
   "cell_type": "markdown",
   "source": [
    "### Задание 4 \n",
    "  \n",
    "* Посчитайте описательные статистики для числовых и для категориальных признаков. \n",
    "* Сколько студентов посещают каждую из школ?  \n",
    "* Сколько студентов посещают математику, сколько - португальский?  \n",
    "* Студенты какого курса чаще заваливают экзамены?  \n",
    "* Сколько в среднем времени в неделю уходит на учебу по каждому предмету?  \n",
    "* На что чаще обращают внимание при выборе школы?"
   ],
   "metadata": {
    "collapsed": false
   }
  },
  {
   "cell_type": "markdown",
   "source": [
    "### Задание 4.1\n",
    "Посчитайте описательные статистики для числовых и для категориальных признаков."
   ],
   "metadata": {
    "collapsed": false
   }
  },
  {
   "cell_type": "code",
   "execution_count": null,
   "outputs": [],
   "source": [
    "data.describe(include=\"all\")"
   ],
   "metadata": {
    "collapsed": false,
    "pycharm": {
     "name": "#%%\n"
    }
   }
  },
  {
   "cell_type": "markdown",
   "source": [
    "### Задание 4.2\n",
    "Сколько студентов посещают каждую из школ?"
   ],
   "metadata": {
    "collapsed": false
   }
  },
  {
   "cell_type": "code",
   "execution_count": null,
   "outputs": [],
   "source": [
    "ms = len(data.loc[data['school'] == 'MS'])\n",
    "gp = len(data.loc[data['school'] == 'GP'])\n",
    "print(str(ms) + \" посещают Mousinho da Silveira\")\n",
    "print(str(gp) + \" посещают Gabriel Pereira\")"
   ],
   "metadata": {
    "collapsed": false,
    "pycharm": {
     "name": "#%%\n"
    }
   }
  },
  {
   "cell_type": "markdown",
   "source": [
    "### Задание 4.3\n",
    "Сколько студентов посещают математику, сколько - португальский?"
   ],
   "metadata": {
    "collapsed": false
   }
  },
  {
   "cell_type": "code",
   "execution_count": null,
   "outputs": [],
   "source": [
    "math = len(data.loc[data['Subject'] == 'Math'])\n",
    "port = len(data.loc[data['Subject'] == 'Por'])\n",
    "print(str(math) + \" посещают математику\")\n",
    "print(str(port) + \" посещают португальский\")"
   ],
   "metadata": {
    "collapsed": false,
    "pycharm": {
     "name": "#%%\n"
    }
   }
  },
  {
   "cell_type": "markdown",
   "source": [
    "### Задание 4.4\n",
    "Студенты какого курса чаще заваливают экзамены?"
   ],
   "metadata": {
    "collapsed": false
   }
  },
  {
   "cell_type": "code",
   "execution_count": null,
   "outputs": [],
   "source": [
    "math_percentage = len(data.loc[(data['failures'] != 0) & (data['Subject'] == 'Math')]) / len(data.loc[data['Subject'] == 'Math'])\n",
    "port_percentage = len(data.loc[(data['failures'] != 0) & (data['Subject'] == 'Por')]) / len(data.loc[data['Subject'] == 'Por'])\n",
    "if math_percentage > port_percentage:\n",
    "    print(\"Студенты математическго курса завлаивают чаще: \" + str(math_percentage * 100) + \" процентов студентов не справляются\" )\n",
    "else:\n",
    "    print(\"Студенты португальского курса завлаивают чаще: \" + str(port_percentage * 100) + \" процентов студентов не справляются\" )\n",
    "    "
   ],
   "metadata": {
    "collapsed": false,
    "pycharm": {
     "name": "#%%\n"
    }
   }
  },
  {
   "cell_type": "markdown",
   "source": [
    "### Задание 4.5\n",
    "Сколько в среднем времени в неделю уходит на учебу по каждому предмету?"
   ],
   "metadata": {
    "collapsed": false
   }
  },
  {
   "cell_type": "code",
   "execution_count": null,
   "outputs": [],
   "source": [
    "mat_time = data.loc[data['Subject'] == 'Math', 'studytime'].median()\n",
    "port_time = data.loc[data['Subject'] == 'Por', 'studytime'].median()\n",
    "\n"
   ],
   "metadata": {
    "collapsed": false,
    "pycharm": {
     "name": "#%%\n"
    }
   }
  },
  {
   "cell_type": "markdown",
   "source": [
    "На математику в среднем уходит от 2 до 5 часов в неделю\n",
    "\n",
    "На португальский в среднем уходит от 2 до 5 часов в неделю"
   ],
   "metadata": {
    "collapsed": false
   }
  },
  {
   "cell_type": "markdown",
   "source": [
    "### Задание 4.6\n",
    "На что чаще обращают внимание при выборе школы?"
   ],
   "metadata": {
    "collapsed": false
   }
  },
  {
   "cell_type": "code",
   "execution_count": null,
   "outputs": [],
   "source": [
    "reason = data['reason'].value_counts().index[0]\n",
    "print(\"Чаще всего внимание обращают на: \" + reason)"
   ],
   "metadata": {
    "collapsed": false,
    "pycharm": {
     "name": "#%%\n"
    }
   }
  },
  {
   "cell_type": "markdown",
   "source": [
    "### Задание 5  \n",
    "  \n",
    "Оцените распределение оценок (отдельно для `G1`, `G2` и `G3`). Сравните распределения для разных предметов - математики и португальского языка. Сделайте выводы.  \n",
    "  \n",
    "**Tip:** Для выполнения задания пригодятся графики плотности, гистограммы и боксплоты."
   ],
   "metadata": {
    "collapsed": false
   }
  },
  {
   "cell_type": "code",
   "execution_count": null,
   "outputs": [],
   "source": [
    "pip install seaborn"
   ],
   "metadata": {
    "collapsed": false,
    "pycharm": {
     "name": "#%%\n"
    }
   }
  },
  {
   "cell_type": "code",
   "execution_count": null,
   "outputs": [],
   "source": [
    "pip install matplotlib"
   ],
   "metadata": {
    "collapsed": false,
    "pycharm": {
     "name": "#%%\n"
    }
   }
  },
  {
   "cell_type": "code",
   "execution_count": null,
   "outputs": [],
   "source": [
    "import seaborn\n",
    "import matplotlib.pyplot as plt\n",
    "import matplotlib\n",
    "%matplotlib inline "
   ],
   "metadata": {
    "collapsed": false,
    "pycharm": {
     "name": "#%%\n"
    }
   }
  },
  {
   "cell_type": "markdown",
   "source": [
    "#### Оцените распределение оценок (отдельно для G1, G2 и G3)"
   ],
   "metadata": {
    "collapsed": false
   }
  },
  {
   "cell_type": "code",
   "execution_count": null,
   "outputs": [],
   "source": [
    "seaborn.distplot(data['G1'], color=\"r\")\n",
    "#seaborn.distplot(data['G2'], color=\"g\")\n",
    "#seaborn.distplot(data['G3'], color=\"w\")"
   ],
   "metadata": {
    "collapsed": false,
    "pycharm": {
     "name": "#%%\n"
    }
   }
  },
  {
   "cell_type": "code",
   "execution_count": null,
   "outputs": [],
   "source": [
    "seaborn.distplot(data['G2'], color=\"g\")"
   ],
   "metadata": {
    "collapsed": false,
    "pycharm": {
     "name": "#%%\n"
    }
   }
  },
  {
   "cell_type": "code",
   "execution_count": null,
   "outputs": [],
   "source": [
    "seaborn.distplot(data['G3'], color=\"m\")"
   ],
   "metadata": {
    "collapsed": false,
    "pycharm": {
     "name": "#%%\n"
    }
   }
  },
  {
   "cell_type": "markdown",
   "source": [
    "##### Как мы видим, плотность распределения оценок примерно одинакова во всех полугодиях, даже в итоговых оценках средняя оценка чуть больше 10. Однако стоит отметить, что в итоговых оценках резко возрастает количество нулевых оценок."
   ],
   "metadata": {
    "collapsed": false
   }
  },
  {
   "cell_type": "markdown",
   "source": [
    "#### Сравните распределения для разных предметов - математики и португальского языка."
   ],
   "metadata": {
    "collapsed": false
   }
  },
  {
   "cell_type": "code",
   "execution_count": null,
   "outputs": [],
   "source": [],
   "metadata": {
    "collapsed": false,
    "pycharm": {
     "name": "#%%\n"
    }
   }
  },
  {
   "cell_type": "markdown",
   "source": [
    "### Задание 6 \n",
    "  \n",
    "Оцените попарные зависимости числовых признаков.  \n",
    "Рассчитайте и провизуализируйте матрицу корреляций. Дайте содержательный комментарий."
   ],
   "metadata": {
    "collapsed": false
   }
  },
  {
   "cell_type": "code",
   "execution_count": null,
   "outputs": [],
   "source": [],
   "metadata": {
    "collapsed": false,
    "pycharm": {
     "name": "#%%\n"
    }
   }
  },
  {
   "cell_type": "code",
   "execution_count": null,
   "outputs": [],
   "source": [],
   "metadata": {
    "collapsed": false,
    "pycharm": {
     "name": "#%%\n"
    }
   }
  },
  {
   "cell_type": "markdown",
   "source": [
    "### Задание 7  \n",
    "  \n",
    "Оцените попарные зависимости нечисловых (категориальных) признаков, дайте содержательный комментарий. "
   ],
   "metadata": {
    "collapsed": false
   }
  },
  {
   "cell_type": "code",
   "execution_count": null,
   "outputs": [],
   "source": [
    "# your code here"
   ],
   "metadata": {
    "collapsed": false,
    "pycharm": {
     "name": "#%%\n"
    }
   }
  },
  {
   "cell_type": "markdown",
   "source": [
    "### Задание  8  \n",
    "  \n",
    "* Оцените, есть ли разница в употреблении алкоголя между парнями и девушками. Кто пьет больше?\n",
    "* Оцените связь употребления алкоголя с признаками: address, Pstatus, higher, romantic, freetime. \n",
    "* Оцените связь употребления алкоголя с уровнем образования опекуна (для случаев, где это известно).\n",
    "* Сравните употребление алкоголя для 50 лучших учеников и 50 худших (по `G3`). Выполните сравнение отдельно для каждого предмета (`Math` и `Por`). Дайте содержательный комментарий.  \n",
    "  \n",
    "**Tip:** для выполнения задания пригодятся боксплоты и гистограммы. "
   ],
   "metadata": {
    "collapsed": false
   }
  },
  {
   "cell_type": "code",
   "execution_count": null,
   "outputs": [],
   "source": [
    "# your code here"
   ],
   "metadata": {
    "collapsed": false,
    "pycharm": {
     "name": "#%%\n"
    }
   }
  },
  {
   "cell_type": "markdown",
   "source": [
    "### Задание 9     \n",
    "  \n",
    "Оцените зависимость итоговой оценки от следующих признаков: \n",
    "  \n",
    "* Пола\n",
    "* Времени в пути от дома до школы\n",
    "* Наличия дополнительной помощи в учебе (от членов семьи или вообще)\n",
    "* Посещения платных дополнительных занятий\n",
    "* Наличия интернета\n",
    "* Наличия романтических отношений\n",
    "* Употребления алкоголя  "
   ],
   "metadata": {
    "collapsed": false
   }
  },
  {
   "cell_type": "code",
   "execution_count": null,
   "outputs": [],
   "source": [
    "# your code here"
   ],
   "metadata": {
    "collapsed": false,
    "pycharm": {
     "name": "#%%\n"
    }
   }
  },
  {
   "cell_type": "markdown",
   "source": [
    "### Задание 10  \n",
    "  \n",
    "Добавьте в данные новый признак - итоговая оценка по 4-х балльной шкале:  \n",
    "\n",
    "* Отлично: 18 <= `G3` <= 20\n",
    "* Хорошо: 14 <= `G3` <= 17\n",
    "* Удовлетворительно: 8 <= `G3` <= 13\n",
    "* Неудовлетворительно: `G3` < 8  \n",
    "  \n",
    "Оцените распределение нового признака в зависимости от признака `reason` (причина выбора школы). Дайте содержательный комментарий. "
   ],
   "metadata": {
    "collapsed": false
   }
  },
  {
   "cell_type": "code",
   "execution_count": null,
   "outputs": [],
   "source": [
    "# your code here"
   ],
   "metadata": {
    "collapsed": false,
    "pycharm": {
     "name": "#%%\n"
    }
   }
  },
  {
   "cell_type": "markdown",
   "source": [
    "### Задание  11 <a id=\"task11\"></a>  \n",
    "  \n",
    "Часть из представленных в данных студентов посещали оба курса - `Math` и `Por`.  \n",
    "* Предложите способ идентификации студентов и определите тех, кто посещал оба курса. Сколько таких студентов?  \n",
    "* Для этих студентов сравните оценки по двум предметам, дайте комментарий.  \n",
    "  \n",
    "**Note:** Столбец `ID` является уникальным идентификатором наблюдения, но не студента. Он будет уникален для каждой строки."
   ],
   "metadata": {
    "collapsed": false
   }
  },
  {
   "cell_type": "code",
   "execution_count": null,
   "outputs": [],
   "source": [
    "# your code here"
   ],
   "metadata": {
    "collapsed": false,
    "pycharm": {
     "name": "#%%\n"
    }
   }
  },
  {
   "cell_type": "markdown",
   "source": [
    "### Задание 12  \n",
    "  \n",
    "Предложите простую модель для определения (предсказания) итоговой оценки студента по 4-х балльной системе. Оцените точность предложенной модели. "
   ],
   "metadata": {
    "collapsed": false
   }
  },
  {
   "cell_type": "code",
   "execution_count": null,
   "outputs": [],
   "source": [
    "# your code here"
   ],
   "metadata": {
    "collapsed": false,
    "pycharm": {
     "name": "#%%\n"
    }
   }
  },
  {
   "cell_type": "markdown",
   "source": [
    "### Задание * (бонусное)  \n",
    "  \n",
    "Дополнительное исследование данных и выводы положительно скажутся на оценке. "
   ],
   "metadata": {
    "collapsed": false
   }
  },
  {
   "cell_type": "code",
   "execution_count": null,
   "outputs": [],
   "source": [
    "# your code here"
   ],
   "metadata": {
    "collapsed": false,
    "pycharm": {
     "name": "#%%\n"
    }
   }
  }
 ],
 "metadata": {
  "kernelspec": {
   "display_name": "Python 3",
   "language": "python",
   "name": "python3"
  },
  "language_info": {
   "codemirror_mode": {
    "name": "ipython",
    "version": 3
   },
   "file_extension": ".py",
   "mimetype": "text/x-python",
   "name": "python",
   "nbconvert_exporter": "python",
   "pygments_lexer": "ipython3",
   "version": "3.7.0"
  }
 },
 "nbformat": 4,
 "nbformat_minor": 1
}