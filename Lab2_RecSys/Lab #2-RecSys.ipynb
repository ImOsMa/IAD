{
 "cells": [
  {
   "cell_type": "markdown",
   "source": [
    "# Майнор \"Интеллектуальный анализ данных\""
   ],
   "metadata": {
    "collapsed": false
   }
  },
  {
   "cell_type": "markdown",
   "source": [
    "# Курс \"Прикладные задачи анализа данных\""
   ],
   "metadata": {
    "collapsed": false
   }
  },
  {
   "cell_type": "markdown",
   "source": [
    "## Лабораторная работа №2. RecSys"
   ],
   "metadata": {
    "collapsed": false
   }
  },
  {
   "cell_type": "markdown",
   "source": [
    "В рамках данной лабораторной работы вам предлагается решить задачу рекомендательной системы на основе следующих данных:"
   ],
   "metadata": {
    "collapsed": false
   }
  },
  {
   "cell_type": "markdown",
   "source": [
    "* **rating.csv** - рейтинги аниме по 10 бальной шкале\n",
    "* **anime.csv** - описание items"
   ],
   "metadata": {
    "collapsed": false
   }
  },
  {
   "cell_type": "markdown",
   "source": [
    "Скачать данные можно [здесь](https://drive.google.com/drive/u/1/folders/1FarHUuqQq4tQSlERB9K8uEfZAZT9tQWv)"
   ],
   "metadata": {
    "collapsed": false
   }
  },
  {
   "cell_type": "markdown",
   "source": [
    "# Данные"
   ],
   "metadata": {
    "collapsed": false
   }
  },
  {
   "cell_type": "markdown",
   "source": [
    "Данные содержат информацию об предподчтениях 73,516 пользователей в 12,294 аниме. Каждый пользователь может добавить аниме и выставить рейтниг.\n",
    "\n",
    "Anime.csv\n",
    "\n",
    "* anime_id - идентификатор аниме (items)\n",
    "* name - полное название аниме\n",
    "* genre - категория/категории для аниме (разделены запятой).\n",
    "* type - тип: movie, TV, OVA, etc.\n",
    "* episodes - количество эпизодов (для экранизаций)\n",
    "* rating - средний рейтинг по аниме.\n",
    "* members - количество членов коммьюнити к аниме\n",
    "\n",
    "Rating.csv\n",
    "\n",
    "* user_id - идентификатор пользователя (users)\n",
    "* anime_id - идентификатор аниме\n",
    "* rating - рейтинг пользователя по аниме (-1 пользователь смотрел, но не оставил рейтинг)."
   ],
   "metadata": {
    "collapsed": false
   }
  },
  {
   "cell_type": "markdown",
   "source": [
    "### ``` Если вычеслительные ресурсы не позволяют решить задачу на всех данных, то необходимо это сделать на \"сэмпле\" данных (выбрав от 5% ids' для user и item). Этот же подход справедлив и для оценки работы алгоритомв```"
   ],
   "metadata": {
    "collapsed": false
   }
  },
  {
   "cell_type": "markdown",
   "source": [
    "## Необходимо сделать:"
   ],
   "metadata": {
    "collapsed": false
   }
  },
  {
   "cell_type": "code",
   "execution_count": null,
   "outputs": [],
   "source": [
    "import pandas as pd\n",
    "import numpy  as np\n",
    "import seaborn as sns\n",
    "import random\n",
    "import matplotlib.pyplot as plt"
   ],
   "metadata": {
    "collapsed": false,
    "pycharm": {
     "name": "#%%\n"
    }
   }
  },
  {
   "cell_type": "code",
   "execution_count": null,
   "outputs": [],
   "source": [
    "def draw(data):\n",
    "    sns_plot = sns.distplot(data, color=\"blue\")\n",
    "    fig = sns_plot.get_figure()"
   ],
   "metadata": {
    "collapsed": false,
    "pycharm": {
     "name": "#%%\n"
    }
   }
  },
  {
   "cell_type": "code",
   "execution_count": null,
   "outputs": [],
   "source": [
    "rating = pd.read_csv(\"rating.csv\")\n",
    "anime = pd.read_csv(\"anime.csv\")"
   ],
   "metadata": {
    "collapsed": false,
    "pycharm": {
     "name": "#%%\n"
    }
   }
  },
  {
   "cell_type": "code",
   "execution_count": null,
   "outputs": [],
   "source": [
    "print(f\"Anime Data size: {len(anime)}\")\n",
    "print(f\"Rating Data size: {len(rating)}\")"
   ],
   "metadata": {
    "collapsed": false,
    "pycharm": {
     "name": "#%%\n"
    }
   }
  },
  {
   "cell_type": "code",
   "execution_count": null,
   "outputs": [],
   "source": [
    "print(f'User Id Unique {len(rating.user_id.unique())}')\n",
    "print(f'Anime Id Unique {len(rating.anime_id.unique())}')"
   ],
   "metadata": {
    "collapsed": false,
    "pycharm": {
     "name": "#%%\n"
    }
   }
  },
  {
   "cell_type": "markdown",
   "source": [
    "### Попробуем взять 5 процентов для ускорения наших действий"
   ],
   "metadata": {
    "collapsed": false
   }
  },
  {
   "cell_type": "code",
   "execution_count": null,
   "outputs": [],
   "source": [
    "short_user_ids = rating['user_id'].sample(int(len(rating.user_id.unique()) * 0.05))\n",
    "short_anime_ids = rating['anime_id'].sample(int(len(rating.anime_id.unique()) * 0.05))\n",
    "len(short_anime_ids)"
   ],
   "metadata": {
    "collapsed": false,
    "pycharm": {
     "name": "#%%\n"
    }
   }
  },
  {
   "cell_type": "code",
   "execution_count": null,
   "outputs": [],
   "source": [
    "rating = rating[(rating['user_id'].isin(short_user_ids)) & (rating['anime_id'].isin(short_anime_ids))]\n",
    "len(rating)"
   ],
   "metadata": {
    "collapsed": false,
    "pycharm": {
     "name": "#%%\n"
    }
   }
  },
  {
   "cell_type": "code",
   "execution_count": null,
   "outputs": [],
   "source": [
    "print(len(rating.user_id.unique()))\n",
    "print(len(rating.anime_id.unique()))"
   ],
   "metadata": {
    "collapsed": false,
    "pycharm": {
     "name": "#%%\n"
    }
   }
  },
  {
   "cell_type": "markdown",
   "source": [
    "Безрейтинговые выбранные пользователи и аниме не вошли в нашу выборку"
   ],
   "metadata": {
    "collapsed": false
   }
  },
  {
   "cell_type": "markdown",
   "source": [
    "### Задание №1 : Exploratory analysis (2 балла):\n",
    "\n",
    "* Распределение числа пользователей по количеству взаимодействий\n",
    "* Разпределение числа \"айтемов\" по количеству взаимодействий\n",
    "* Распределение числа рейтингов, средних рейтингов по пользователям, по \"айтемам\"\n",
    "* и т.д. (бонус)"
   ],
   "metadata": {
    "collapsed": false
   }
  },
  {
   "cell_type": "markdown",
   "source": [
    "### Распределение числа пользователей по количеству взаимодействий"
   ],
   "metadata": {
    "collapsed": false
   }
  },
  {
   "cell_type": "code",
   "execution_count": null,
   "outputs": [],
   "source": [
    "draw_data = rating.user_id.value_counts().values\n",
    "draw(draw_data)"
   ],
   "metadata": {
    "collapsed": false,
    "pycharm": {
     "name": "#%%\n"
    }
   }
  },
  {
   "cell_type": "markdown",
   "source": [
    "### Разпределение числа \"айтемов\" по количеству взаимодействий"
   ],
   "metadata": {
    "collapsed": false
   }
  },
  {
   "cell_type": "code",
   "execution_count": null,
   "outputs": [],
   "source": [
    "draw_data = rating.anime_id.value_counts().values\n",
    "draw(draw_data)"
   ],
   "metadata": {
    "collapsed": false,
    "pycharm": {
     "name": "#%%\n"
    }
   }
  },
  {
   "cell_type": "markdown",
   "source": [
    "### Распределение числа рейтингов, средних рейтингов по пользователям, по \"айтемам\""
   ],
   "metadata": {
    "collapsed": false
   }
  },
  {
   "cell_type": "markdown",
   "source": [
    "#### Число рейтингов по юзерам"
   ],
   "metadata": {
    "collapsed": false
   }
  },
  {
   "cell_type": "code",
   "execution_count": null,
   "outputs": [],
   "source": [
    "draw_data = rating.groupby('user_id').rating.nunique().values\n",
    "draw(draw_data)"
   ],
   "metadata": {
    "collapsed": false,
    "pycharm": {
     "name": "#%%\n"
    }
   }
  },
  {
   "cell_type": "markdown",
   "source": [
    "#### Число рейтингов по айтемам"
   ],
   "metadata": {
    "collapsed": false
   }
  },
  {
   "cell_type": "code",
   "execution_count": null,
   "outputs": [],
   "source": [
    "draw_data = rating.groupby('anime_id').rating.nunique().values\n",
    "draw(draw_data)"
   ],
   "metadata": {
    "collapsed": false,
    "pycharm": {
     "name": "#%%\n"
    }
   }
  },
  {
   "cell_type": "markdown",
   "source": [
    "#### Средний рейтинг аниме"
   ],
   "metadata": {
    "collapsed": false
   }
  },
  {
   "cell_type": "code",
   "execution_count": null,
   "outputs": [],
   "source": [
    "draw_data = rating[rating.rating != -1].groupby('anime_id').rating.mean().values\n",
    "draw(draw_data)"
   ],
   "metadata": {
    "collapsed": false,
    "pycharm": {
     "name": "#%%\n"
    }
   }
  },
  {
   "cell_type": "markdown",
   "source": [
    "### Задание №2 : Оценить разреженность данных по рейтингу (1/2 балла)"
   ],
   "metadata": {
    "collapsed": false
   }
  },
  {
   "cell_type": "code",
   "execution_count": null,
   "outputs": [],
   "source": [
    "users_id_index = { id: index for index, id in enumerate(rating.user_id.unique()) }\n",
    "anime_id_index = { id: index for index, id in enumerate(rating.anime_id.unique())}\n",
    "matrix = np.zeros((rating.user_id.unique().size, rating.anime_id.unique().size))\n",
    "for ind, iterr in rating.iterrows():\n",
    "    matrix[users_id_index[iterr.user_id], anime_id_index[iterr.anime_id]] = iterr.rating\n",
    "matrix.shape"
   ],
   "metadata": {
    "collapsed": false,
    "pycharm": {
     "name": "#%%\n"
    }
   }
  },
  {
   "cell_type": "code",
   "execution_count": null,
   "outputs": [],
   "source": [
    "sns.heatmap(matrix)"
   ],
   "metadata": {
    "collapsed": false,
    "pycharm": {
     "name": "#%%\n"
    }
   }
  },
  {
   "cell_type": "markdown",
   "source": [
    "### Оценим разреженность"
   ],
   "metadata": {
    "collapsed": false
   }
  },
  {
   "cell_type": "code",
   "execution_count": null,
   "outputs": [],
   "source": [
    "denom = rating.user_id.unique().size * rating.anime_id.unique().size\n",
    "print(f'Sparsity {(1.0 - ((np.count_nonzero(matrix) * 1.0) / denom)) * 100} %')"
   ],
   "metadata": {
    "collapsed": false,
    "pycharm": {
     "name": "#%%\n"
    }
   }
  },
  {
   "cell_type": "markdown",
   "source": [
    "### Задание №3 : Разделить данные на тренировочные и валидационные (1/2 балла)"
   ],
   "metadata": {
    "collapsed": false
   }
  },
  {
   "cell_type": "code",
   "execution_count": null,
   "outputs": [],
   "source": [
    "matrix_train = matrix.copy()\n",
    "test_val = []\n",
    "for user_i in range(matrix_train.shape[0]):\n",
    "    test_sample = (matrix_train[user_i] > 7).nonzero()[0]\n",
    "    test_val.append(random.sample(list(test_sample), k=(5 if 5 <= len(test_sample) else len(test_sample))))\n",
    "    for anime_i in test_sample:\n",
    "        matrix_train[user_i][anime_i] = 0\n",
    "test_val"
   ],
   "metadata": {
    "collapsed": false,
    "pycharm": {
     "name": "#%%\n"
    }
   }
  },
  {
   "cell_type": "markdown",
   "source": [
    "### Задание №4 : Решить задачу на основе предложения всем юзерам наиболее популярных item (1 балл)"
   ],
   "metadata": {
    "collapsed": false
   }
  },
  {
   "cell_type": "code",
   "execution_count": null,
   "outputs": [],
   "source": [
    "popul = np.count_nonzero(matrix_train, axis=0)\n",
    "rat = sorted(range(len(popul)), key=lambda k: popul[k])\n",
    "rec_popular = [rating.anime_id.unique()[i] for i in rat]\n",
    "print(rec_popular[:10])\n",
    "print(rat[:10])"
   ],
   "metadata": {
    "collapsed": false,
    "pycharm": {
     "name": "#%%\n"
    }
   }
  },
  {
   "cell_type": "code",
   "execution_count": null,
   "outputs": [],
   "source": [],
   "metadata": {
    "collapsed": false,
    "pycharm": {
     "name": "#%%\n"
    }
   }
  },
  {
   "cell_type": "markdown",
   "source": [
    "### Задание №5 : Решить задачу на основе коллоборативной фильтрации (2 балла)\n",
    "\n",
    "* Реализовать один из методов коллоборативной фильтрации SVD, SVD++, ALS, ALS with implicit feedback"
   ],
   "metadata": {
    "collapsed": false
   }
  },
  {
   "cell_type": "markdown",
   "source": [
    "### SVD"
   ],
   "metadata": {
    "collapsed": false
   }
  },
  {
   "cell_type": "code",
   "execution_count": null,
   "outputs": [],
   "source": [
    "def argmax(a, k):\n",
    "    return np.argpartition(a, -k)[-k:]"
   ],
   "metadata": {
    "collapsed": false,
    "pycharm": {
     "name": "#%%\n"
    }
   }
  },
  {
   "cell_type": "code",
   "execution_count": null,
   "outputs": [],
   "source": [
    "from numpy.linalg import svd\n",
    "\n",
    "p = 32\n",
    "u, d, v = svd(matrix)\n",
    "U = u[:, :p]\n",
    "D = np.diag(d)[:p, :p]\n",
    "V = v[:p, :]\n",
    "svd_pred = U @ D @ V"
   ],
   "metadata": {
    "collapsed": false,
    "pycharm": {
     "name": "#%%\n"
    }
   }
  },
  {
   "cell_type": "code",
   "execution_count": null,
   "outputs": [],
   "source": [
    "result = argmax(svd_pred[0], 5)\n",
    "result"
   ],
   "metadata": {
    "collapsed": false,
    "pycharm": {
     "name": "#%%\n"
    }
   }
  },
  {
   "cell_type": "code",
   "execution_count": null,
   "outputs": [],
   "source": [
    "anime.iloc[result]"
   ],
   "metadata": {
    "collapsed": false,
    "pycharm": {
     "name": "#%%\n"
    }
   }
  },
  {
   "cell_type": "code",
   "execution_count": null,
   "outputs": [],
   "source": [
    "anime.iloc[result].describe()"
   ],
   "metadata": {
    "collapsed": false,
    "pycharm": {
     "name": "#%%\n"
    }
   }
  },
  {
   "cell_type": "markdown",
   "source": [
    "### Задание №6 Решить задачу на основе контент-based подхода, выбрав один из методов решения (2 балла):\n",
    "\n",
    "* На основание векторов с факторизационной матрицы\n",
    "* При помощи \"ембеддингов\"  item'ов"
   ],
   "metadata": {
    "collapsed": false
   }
  },
  {
   "cell_type": "markdown",
   "source": [
    "#### Для наиболее понравишегося аниме найдем похожие на основании векторов с факторизационной матрицы"
   ],
   "metadata": {
    "collapsed": false
   }
  },
  {
   "cell_type": "code",
   "execution_count": null,
   "outputs": [],
   "source": [
    "recs = []\n",
    "for user_i in range(matrix_train.shape[0]):\n",
    "    best_index = np.where(matrix_train[user_i] == matrix_train[user_i].max())[0][0]\n",
    "    recs.append(((V.T - V.T[best_index])**2).mean(axis=1).argsort()[1:1 + 5])\n",
    "based_by_cont = np.array(recs)\n",
    "based_by_cont"
   ],
   "metadata": {
    "collapsed": false,
    "pycharm": {
     "name": "#%%\n"
    }
   }
  },
  {
   "cell_type": "markdown",
   "source": [
    "### Задание №7 Оценить работу алгоритмов выбрав одну из метрик, сделать вывод по результатам работы (2 балла):\n",
    "\n",
    "### MAP@k\n"
   ],
   "metadata": {
    "collapsed": false
   }
  },
  {
   "cell_type": "code",
   "execution_count": null,
   "outputs": [],
   "source": [
    "def ap(actual, pred):\n",
    "        score = 0.0\n",
    "        hits = 0.0\n",
    "        for i,p in enumerate(pred):\n",
    "            if p in actual:    \n",
    "                hits += 1.0\n",
    "                score += hits / (i+1.0)\n",
    "        if hits != 0:\n",
    "            return score / hits \n",
    "        return 0\n",
    "\n",
    "def mapka(actual, pred):\n",
    "    scores = []\n",
    "    for a,p in zip(actual, pred):\n",
    "        if len(a) >= len(p):\n",
    "            scores.append(ap(a, p))\n",
    "        continue\n",
    "    return np.mean(scores)"
   ],
   "metadata": {
    "collapsed": false,
    "pycharm": {
     "name": "#%%\n"
    }
   }
  },
  {
   "cell_type": "markdown",
   "source": [
    "## Content "
   ],
   "metadata": {
    "collapsed": false
   }
  },
  {
   "cell_type": "code",
   "execution_count": null,
   "outputs": [],
   "source": [
    "mapka(test_val, based_by_cont)"
   ],
   "metadata": {
    "collapsed": false,
    "pycharm": {
     "name": "#%%\n"
    }
   }
  },
  {
   "cell_type": "markdown",
   "source": [
    "## Popular"
   ],
   "metadata": {
    "collapsed": false
   }
  },
  {
   "cell_type": "code",
   "execution_count": null,
   "outputs": [],
   "source": [
    "mapka(test_val, np.stack([rat[:5]] * len(test_val)))"
   ],
   "metadata": {
    "collapsed": false,
    "pycharm": {
     "name": "#%%\n"
    }
   }
  },
  {
   "cell_type": "markdown",
   "source": [
    "## SVD"
   ],
   "metadata": {
    "collapsed": false
   }
  },
  {
   "cell_type": "code",
   "execution_count": null,
   "outputs": [],
   "source": [
    "mapka(tes_val, result)"
   ],
   "metadata": {
    "collapsed": false,
    "pycharm": {
     "name": "#%%\n"
    }
   }
  },
  {
   "cell_type": "markdown",
   "source": [
    "## Выводы\n",
    "\n",
    "1) SVD очень хорошо работает на выборках, которые имеют небольшой размер. Реккомендиции логически объяснимы и в какой-то степени схожи.\n",
    "\n",
    "2) Content Based ничего практического не показала, так как основывается на количестве взаимодействий и результаты не воспроизводит"
   ],
   "metadata": {
    "collapsed": false
   }
  },
  {
   "cell_type": "markdown",
   "source": [
    "``` Бонус (1 балл) - дополнительные графики и характеристики в EDA и правильно сделанные выводы```"
   ],
   "metadata": {
    "collapsed": false
   }
  },
  {
   "cell_type": "markdown",
   "source": [
    "# ```Дедлайн - 08 июня 23:59```"
   ],
   "metadata": {
    "collapsed": false
   }
  },
  {
   "cell_type": "code",
   "execution_count": null,
   "outputs": [],
   "source": [],
   "metadata": {
    "collapsed": false,
    "pycharm": {
     "name": "#%%\n"
    }
   }
  }
 ],
 "metadata": {
  "colab": {
   "name": "Lab #2-RecSys.ipynb",
   "provenance": []
  },
  "kernelspec": {
   "display_name": "Python 3",
   "language": "python",
   "name": "python3"
  },
  "language_info": {
   "codemirror_mode": {
    "name": "ipython",
    "version": 3
   },
   "file_extension": ".py",
   "mimetype": "text/x-python",
   "name": "python",
   "nbconvert_exporter": "python",
   "pygments_lexer": "ipython3",
   "version": "3.7.0"
  }
 },
 "nbformat": 4,
 "nbformat_minor": 1
}